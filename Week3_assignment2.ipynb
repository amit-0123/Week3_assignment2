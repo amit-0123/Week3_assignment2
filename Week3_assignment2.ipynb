{
 "cells": [
  {
   "cell_type": "code",
   "execution_count": 1,
   "id": "9db6ccfe-21a8-4f63-9019-93653edc7bf9",
   "metadata": {},
   "outputs": [],
   "source": [
    "# Ans 1:\n",
    "l = [('Sachin Tendulkar', 34357), ('Ricky Ponting', 27483), ('Jack Kallis', 25534), ('Virat Kohli', 24936)]"
   ]
  },
  {
   "cell_type": "code",
   "execution_count": 2,
   "id": "29153672-93d7-4976-89a3-6d1fad952c70",
   "metadata": {},
   "outputs": [
    {
     "data": {
      "text/plain": [
       "[('Virat Kohli', 24936),\n",
       " ('Jack Kallis', 25534),\n",
       " ('Ricky Ponting', 27483),\n",
       " ('Sachin Tendulkar', 34357)]"
      ]
     },
     "execution_count": 2,
     "metadata": {},
     "output_type": "execute_result"
    }
   ],
   "source": [
    "sorted_data=sorted(l,key=lambda x:x[1])\n",
    "l1=[]\n",
    "for i in sorted_data:\n",
    "    l1.append(i)\n",
    "l1"
   ]
  },
  {
   "cell_type": "code",
   "execution_count": 3,
   "id": "3f2dc6f2-848e-4f33-974e-3d77935c24a1",
   "metadata": {},
   "outputs": [
    {
     "data": {
      "text/plain": [
       "[1, 4, 9, 16, 25, 36, 49, 64, 81, 100]"
      ]
     },
     "execution_count": 3,
     "metadata": {},
     "output_type": "execute_result"
    }
   ],
   "source": [
    "l2=[1, 2, 3, 4, 5, 6, 7, 8, 9, 10]\n",
    "list(map(lambda x:x**2,l2))"
   ]
  },
  {
   "cell_type": "code",
   "execution_count": 4,
   "id": "5063f81a-d854-45de-9393-287868d97c0c",
   "metadata": {},
   "outputs": [
    {
     "name": "stdout",
     "output_type": "stream",
     "text": [
      "('1', '2', '3', '4', '5', '6', '7', '8', '9', '10')\n"
     ]
    }
   ],
   "source": [
    "l3= [1, 2, 3, 4, 5, 6, 7, 8, 9, 10]\n",
    "\n",
    "list=list(map(lambda x: str(x) if (type(x)==int)  else x,l3))\n",
    "def convert(list):\n",
    "    return tuple(list)\n",
    "print(convert(list))"
   ]
  },
  {
   "cell_type": "code",
   "execution_count": 32,
   "id": "7c154b31-f6d7-4b50-ad5a-cf548e4b5271",
   "metadata": {},
   "outputs": [],
   "source": [
    "from functools import  reduce\n",
    "l5=[1,2,3,4,5,6,7,8,9,10,11,12,13,14,15,16,17,18,19,20,21,22,23,24,25]\n"
   ]
  },
  {
   "cell_type": "code",
   "execution_count": 33,
   "id": "1674e498-d110-4c2b-ba2e-939c4730728a",
   "metadata": {},
   "outputs": [
    {
     "data": {
      "text/plain": [
       "15511210043330985984000000"
      ]
     },
     "execution_count": 33,
     "metadata": {},
     "output_type": "execute_result"
    }
   ],
   "source": [
    "reduce(lambda x,y: x*y,l5)"
   ]
  },
  {
   "cell_type": "code",
   "execution_count": 34,
   "id": "7acdccfd-ec52-4e0c-af08-86d92f8d01e4",
   "metadata": {},
   "outputs": [],
   "source": [
    "# from functools import  filter\n",
    "l6=[2, 3, 6, 9, 27, 60, 90, 120, 55, 46]\n"
   ]
  },
  {
   "cell_type": "code",
   "execution_count": 36,
   "id": "fca3b186-08c4-4eeb-92b2-6460112a0c61",
   "metadata": {},
   "outputs": [],
   "source": [
    "c=(filter(lambda x:(x%2==0 and x%3==0),l6))"
   ]
  },
  {
   "cell_type": "code",
   "execution_count": 37,
   "id": "d37ddd95-a1e8-481b-9f8e-156d74833ae2",
   "metadata": {},
   "outputs": [
    {
     "name": "stdout",
     "output_type": "stream",
     "text": [
      "6\n",
      "60\n",
      "90\n",
      "120\n"
     ]
    }
   ],
   "source": [
    "for i in c:\n",
    "    print(i)"
   ]
  },
  {
   "cell_type": "code",
   "execution_count": 51,
   "id": "64ef6bef-c24c-41a2-89a9-3b08c18b102f",
   "metadata": {},
   "outputs": [],
   "source": [
    "l7=['python', 'php', 'aba', 'radar', 'level']\n"
   ]
  },
  {
   "cell_type": "code",
   "execution_count": 55,
   "id": "67c35e8a-b08b-4677-8284-d1040fd81fc5",
   "metadata": {},
   "outputs": [],
   "source": [
    "d=(filter(lambda x:x==x[::-1],l7))\n"
   ]
  },
  {
   "cell_type": "code",
   "execution_count": 56,
   "id": "0164c630-5ece-490a-9465-1260396888a7",
   "metadata": {},
   "outputs": [
    {
     "name": "stdout",
     "output_type": "stream",
     "text": [
      "php\n",
      "aba\n",
      "radar\n",
      "level\n"
     ]
    }
   ],
   "source": [
    "for i in d:\n",
    "    print(i)"
   ]
  },
  {
   "cell_type": "code",
   "execution_count": null,
   "id": "3b2ae81b-4839-409a-93f4-827a5b4886fd",
   "metadata": {},
   "outputs": [],
   "source": []
  }
 ],
 "metadata": {
  "kernelspec": {
   "display_name": "Python 3 (ipykernel)",
   "language": "python",
   "name": "python3"
  },
  "language_info": {
   "codemirror_mode": {
    "name": "ipython",
    "version": 3
   },
   "file_extension": ".py",
   "mimetype": "text/x-python",
   "name": "python",
   "nbconvert_exporter": "python",
   "pygments_lexer": "ipython3",
   "version": "3.10.8"
  }
 },
 "nbformat": 4,
 "nbformat_minor": 5
}
